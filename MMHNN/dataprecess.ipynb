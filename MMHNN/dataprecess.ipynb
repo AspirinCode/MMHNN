{
 "cells": [
  {
   "cell_type": "code",
   "execution_count": 2,
   "metadata": {},
   "outputs": [
    {
     "name": "stdout",
     "output_type": "stream",
     "text": [
      "CSV文件已修改并保存。\n"
     ]
    }
   ],
   "source": [
    "import pandas as pd\n",
    "\n",
    "# 读取CSV文件\n",
    "file_path = '/home/dwj/WWW/DDIsubgraph/pretrain/data/data_solve_data_mnsol.csv'\n",
    "res_file_path = '/home/dwj/WWW/DDIsubgraph/pretrain/data/Mnsol.csv'\n",
    "df = pd.read_csv(file_path)\n",
    "\n",
    "# 第一列用第二列的数据覆盖\n",
    "df.iloc[:, 0] = df.iloc[:, 1]\n",
    "\n",
    "# 第二列用第四列的数据覆盖\n",
    "df.iloc[:, 1] = df.iloc[:, 3]\n",
    "\n",
    "# 保存修改后的CSV文件\n",
    "df.to_csv(res_file_path, index=False)\n",
    "\n",
    "print(\"CSV文件已修改并保存。\")\n"
   ]
  }
 ],
 "metadata": {
  "kernelspec": {
   "display_name": "zs",
   "language": "python",
   "name": "python3"
  },
  "language_info": {
   "codemirror_mode": {
    "name": "ipython",
    "version": 3
   },
   "file_extension": ".py",
   "mimetype": "text/x-python",
   "name": "python",
   "nbconvert_exporter": "python",
   "pygments_lexer": "ipython3",
   "version": "3.9.16"
  }
 },
 "nbformat": 4,
 "nbformat_minor": 2
}
